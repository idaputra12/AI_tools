{
 "cells": [
  {
   "cell_type": "code",
   "execution_count": null,
   "id": "9c86bc58",
   "metadata": {},
   "outputs": [],
   "source": [
    "import os\n",
    "from langchain.chat_models import init_chat_model\n",
    "import re\n",
    "import numpy as np\n",
    "import openai\n",
    "from langchain_core.tools import tool\n",
    "from langchain_openai import ChatOpenAI\n",
    "from langchain_core.output_parsers import StrOutputParser\n",
    "from langchain_community.document_loaders import PyPDFLoader\n",
    "from langchain_core.vectorstores import InMemoryVectorStore\n",
    "from langchain_openai import OpenAIEmbeddings, ChatOpenAI\n",
    "from langchain.chains import RetrievalQA\n",
    "from langchain.prompts import PromptTemplate\n",
    "from langchain_core.output_parsers import StrOutputParser\n",
    "from typing import Annotated\n",
    "from typing import Annotated\n",
    "from typing_extensions import TypedDict\n",
    "from datetime import datetime\n",
    "from langgraph.graph import StateGraph, START, END\n",
    "from langgraph.graph.message import AnyMessage, add_messages\n",
    "from langgraph.checkpoint.memory import InMemorySaver  # Add this import\n",
    "from langgraph.prebuilt import ToolNode, tools_condition  # Add this import\n",
    "from langchain_openai import ChatOpenAI\n",
    "from langchain_core.prompts import ChatPromptTemplate\n",
    "from langchain_core.runnables import Runnable, RunnableConfig\n",
    "from typing_extensions import TypedDict\n",
    "\n",
    "from langgraph.graph import StateGraph, START, END\n",
    "from langgraph.graph.message import add_messages\n",
    "\n",
    "\n",
    "os.environ[\"OPENAI_API_KEY\"] = \"\"\n",
    "\n",
    "llm = init_chat_model(\"openai:gpt-4.1\")"
   ]
  },
  {
   "cell_type": "code",
   "execution_count": 10,
   "id": "504d6a5d",
   "metadata": {},
   "outputs": [
    {
     "name": "stdout",
     "output_type": "stream",
     "text": [
      "Note: you may need to restart the kernel to use updated packages.\n"
     ]
    },
    {
     "name": "stderr",
     "output_type": "stream",
     "text": [
      "ERROR: Could not install packages due to an OSError: [WinError 5] Access is denied: 'C:\\\\Users\\\\Gus Agung\\\\Desktop\\\\backend-hotel-agent\\\\.venv\\\\Lib\\\\site-packages\\\\~ydantic_core\\\\_pydantic_core.cp312-win_amd64.pyd'\n",
      "Check the permissions.\n",
      "\n",
      "\n",
      "[notice] A new release of pip is available: 23.2.1 -> 25.2\n",
      "[notice] To update, run: python.exe -m pip install --upgrade pip\n"
     ]
    }
   ],
   "source": [
    "%pip install -qU langchain-unstructured"
   ]
  },
  {
   "cell_type": "markdown",
   "id": "5e85d18a",
   "metadata": {},
   "source": [
    "# Building the  ingestion and retrieval "
   ]
  },
  {
   "cell_type": "code",
   "execution_count": 3,
   "id": "533d06c0",
   "metadata": {},
   "outputs": [],
   "source": [
    "file_path = (\n",
    "    \"./assets/Puri Santrian Hotel – Overview & Contact Information.pdf\"\n",
    ")"
   ]
  },
  {
   "cell_type": "code",
   "execution_count": null,
   "id": "39db5861",
   "metadata": {},
   "outputs": [
    {
     "data": {
      "text/plain": [
       "[Document(metadata={'producer': 'WeasyPrint 65.1', 'creator': 'ChatGPT', 'creationdate': '', 'title': 'Puri Santrian Hotel – Overview & Contact Information', 'author': 'ChatGPT Deep Research', 'source': './assets/Puri Santrian Hotel – Overview & Contact Information.pdf', 'total_pages': 10, 'page': 0, 'page_label': '1'}, page_content='Puri Santrian Hotel – Overview & Contact\\nInformation\\nPuri Santrian is a 4-star Balinese beach resort located at the tranquil southern end of Sanur Beach in Bali,\\nIndonesia . The resort is  family-owned and operated, designed like an extended Balinese royal\\ncompound with separate wings for different room categories. Set amid lush tropical gardens, it offers\\n199 guest rooms across low-rise buildings (up to 3 floors) and traditional bungalows. The atmosphere\\nis upscale yet culturally rooted, aiming to preserve Balinese traditions while providing modern comforts.\\nGuests can enjoy direct beachfront access with sunrise views, multiple swimming pools, and on-site dining\\nand leisure facilities.\\nContact Details:\\n- Address: Jl. Cemara 35, Sanur , Bali 80228, Indonesia (P .O. Box 3055 Denpasar)\\n- Phone: +62 361 288009 (24-hour front desk)\\n- Fax: +62 361 287101\\n- Email (General Info): [email\\xa0protected]\\n- Email (Reservations): [email\\xa0protected]\\n- Official Website:santrian.com/puri-santrian\\n(For any inquiries, the hotel promises to respond to emails within 24 hours. If no reply is received, guests are\\nadvised to call by phone.)\\nCheck-In and Check-Out\\nCheck-in time: 3:00 PM local time (GMT+8) . Early check-in is subject to availability upon\\narrival . The front desk is open 24/7, and late arrivals are accommodated (contact the hotel for\\nany  special  check-in  instructions).  Minimum  check-in  age  is  15  years,  in  line  with  the\\nresort’s adults-only policy for certain room categories. All guests must present a valid passport (or\\nphoto ID) at check-in for registration, and the credit card used for booking must be shown for\\nverification.\\nCheck-out  time: 12:00  noon  on  departure  day.  Late  check-out until  6:00  PM  may  be\\npossible for a 50% room rate surcharge, subject to availability. For departures before dawn,\\nguests can arrange wake-up calls or transportation with reception the day prior. After check-out,\\ncomplimentary shower rooms are available 24 hours so that guests with late flights can freshen up\\nbefore leaving (advanced booking required).\\nKey Deposit: A refundable deposit for incidentals is required at check-in (amount may be held on\\nyour credit card or collected in cash). The hotel sets a credit limit of IDR 2,500,000 for room\\naccounts – if expenses exceed this during your stay, you may be asked to settle the bill in advance to\\ncontinue charging to the room.\\n1 2\\n3\\n4\\n5\\n6\\n7\\n8\\n9\\n10\\n11\\n• 12 13\\n14\\n15 16 17\\n18\\n19\\n• 20 21\\n14\\n22\\n23\\n• \\n24\\n25\\n1'),\n",
       " Document(metadata={'producer': 'WeasyPrint 65.1', 'creator': 'ChatGPT', 'creationdate': '', 'title': 'Puri Santrian Hotel – Overview & Contact Information', 'author': 'ChatGPT Deep Research', 'source': './assets/Puri Santrian Hotel – Overview & Contact Information.pdf', 'total_pages': 10, 'page': 1, 'page_label': '2'}, page_content='Cancellation/No-Show: Reservations must be guaranteed with a credit card. Cancellation terms\\ndepend on the rate or package booked (refer to your booking confirmation for details). In case of a\\nno-show, one night’s room charge (including tax/service) will be charged as penalty. For early\\ndepartures, at least a one-night charge applies (higher in peak season, at hotel’s discretion).\\nWi-Fi and Connectivity\\nWi-Fi: Complimentary  wireless  internet  access is  provided  throughout  the  resort,  including  all\\nguest rooms and public areas. Guests can connect an unlimited number of devices. The Wi-Fi\\nis generally reliable for browsing and email; high-bandwidth activities may be limited during peak\\nusage times. No additional login fee applies. If you encounter any connectivity issues, the front desk\\ncan assist.\\nBusiness Center: While there is no dedicated business center , the resort offers basic secretarial\\nservices on request (such as printing or fax at the front desk). All rooms have a desk and there is free\\nWi-Fi, making it feasible to work remotely from the room or common areas. \\nIn-Room Amenities: Every room is equipped with a  telephone, electrical outlets (Indonesia uses\\nType C/F plugs, 230V), and an in-room  safe for securing laptops and valuables.  Universal\\nadapters are available upon request. \\nDining Options\\nBeachfront dining at the Beach Club Restaurant, Puri Santrian\\nPuri Santrian offers two main restaurants on-site, as well as a bar and room service, to cater to guests\\nthroughout the day:\\nBeach  Club  Restaurant: The  resort’s  signature  open-air  beachfront  restaurant,  serving\\ninternational and Indonesian cuisine. Open daily from 6:00 AM to midnight (06:00–24:00), it\\nbegins each day with a generous buffet breakfast (6:30–10:30 AM) featuring live cooking stations\\nand a variety of local and Western favorites. From lunch through dinner , Beach Club offers a\\nbistro-style à la carte menu including popular Indonesian dishes and fresh seafood. Several\\nnights a week, themed dinner events with cultural performances are held here (e.g. Balinese dance\\nnights) , creating a lively atmosphere. The Beach Club has both indoor seating and a breezy\\noutdoor terrace overlooking the pools and ocean. Dress code: Casual resort wear (swimsuit cover-\\nups are kindly requested in dining areas). \\nMezzanine Asian Kitchen & Bar: A specialty restaurant located near the hotel entrance, offering a\\nrefined dinner experience. Open evenings 6:00 PM – 11:00 PM, Mezzanine features a two-level\\nsemi-fine dining space and a menu focused on  Asian cuisines, especially Japanese and Chinese\\ndishes . Guests can enjoy sushi, teppanyaki, Chinese delicacies and other Pan-Asian creations\\nprepared with market-fresh ingredients. Select dishes are prepared at a live cooking counter for\\nadded culinary “theater”. The restaurant’s elegant bar serves Asian-inspired cocktails, sake, and a\\ncurated wine list to complement the meals. Reservations are recommended for Mezzanine, especially\\nin high season.\\n• \\n26\\n27\\n• \\n28 29\\n• \\n30\\n• \\n31 32\\n33\\n• \\n34\\n35 36\\n33\\n37\\n38\\n39\\n• \\n40\\n41\\n42\\n43\\n2'),\n",
       " Document(metadata={'producer': 'WeasyPrint 65.1', 'creator': 'ChatGPT', 'creationdate': '', 'title': 'Puri Santrian Hotel – Overview & Contact Information', 'author': 'ChatGPT Deep Research', 'source': './assets/Puri Santrian Hotel – Overview & Contact Information.pdf', 'total_pages': 10, 'page': 2, 'page_label': '3'}, page_content='Bars & Lounges: The  Beach Club Bar (part of the Beach Club Restaurant) is open all day until\\nmidnight, offering tropical cocktails, Bintang beer , fresh juices, and an extensive drink list. It’s an\\nideal spot for sunset happy hour . There is also a  seaside pop-up bar with live music on select\\nevenings  – the resort frequently features live acoustic bands, DJs, or saxophone performances\\nduring sunset hours through dinner , creating a vibrant social scene by the beach. Additionally, a\\nlounge area in the lobby serves welcome drinks and can provide coffee/tea throughout the day.\\nRoom Service: In-room dining is available from 6:30 AM until midnight daily . Guests can order\\nbreakfast in bed, daytime snacks, or late-night meals from the room service menu (which includes\\nmany items from the Beach Club’s offerings). There is a  24-hour room service notation on some\\nbooking sites, but the official policy is last orders by midnight. No outside food or drinks are\\nallowed in the resort’s dining outlets (a corkage fee applies for brought-in wine/liquor), and for\\nthe comfort of all guests  strong-smelling foods (like durian) are prohibited anywhere on the\\nproperty .\\nBreakfast  inclusion: If  your  room  rate  includes  breakfast,  it  will  be  served  at  the  Beach  Club\\nRestaurant each morning (buffet style). For guests on room-only plans,  buffet breakfast can be\\npurchased on-site for approximately IDR 225,000 per adult and IDR 150,000 per child. Breakfast\\nhours are 6:30 AM – 10:30 AM. \\nSpa and Wellness Facilities\\nThe  Spa at Puri Santrian is a luxurious wellness center designed for relaxation of body and mind. It\\nfeatures nine double treatment rooms for individuals or couples treatments (including several open-air or\\ngarden-view pavilions) – allowing guests to enjoy massages side by side. The spa menu includes a wide\\nrange  of  therapies:  Balinese  massages,  aromatherapy,  body  scrubs,  herbal  baths,  facials,  manicures/\\npedicures, and bespoke wellness packages. Signature treatments often incorporate local herbal ingredients\\nand traditional techniques for an authentic Balinese spa experience.\\nHours: Open  daily  from  9:00  AM  to  8:00  PM (09:00–20:00).  It  is  recommended  to  make\\nreservations for spa treatments in advance, especially during peak periods, to secure your preferred\\ntime.\\nServices: Guests may book treatments à la carte or choose curated spa packages. Options range\\nfrom short 30-minute foot reflexology sessions to indulgent 2-hour spa rituals. The spa staff can also\\narrange special experiences such as a “spa journey” that might include a romantic couple’s massage\\nfollowed by a private dinner , or wellness activities like morning yoga combined with a spa treatment\\n.  In-room  massages are  available  on  request  for  certain  room  categories  (subject  to\\ntherapist availability and with a surcharge).\\nFacilities: Along with treatment rooms, the spa facility includes outdoor Jacuzzis, a reflexology path,\\nand a tranquil relaxation lounge where guests are served ginger tea before and after treatments.\\nThere is also a small spa boutique selling Balinese essential oils, scrubs, and spa products used in\\ntreatments, so guests can take home a bit of the spa experience. Note: As of the latest guidelines, the\\nspa adheres to enhanced hygiene protocols (cleanliness and safety measures) – therapists wear\\nmasks and all equipment is sanitized thoroughly between sessions.\\n• \\n44\\n45\\n• 46\\n47\\n48\\n49\\n• \\n50\\n51\\n52\\n• 53\\n• \\n54 55\\n• \\n3'),\n",
       " Document(metadata={'producer': 'WeasyPrint 65.1', 'creator': 'ChatGPT', 'creationdate': '', 'title': 'Puri Santrian Hotel – Overview & Contact Information', 'author': 'ChatGPT Deep Research', 'source': './assets/Puri Santrian Hotel – Overview & Contact Information.pdf', 'total_pages': 10, 'page': 3, 'page_label': '4'}, page_content='Pricing: Massage treatments start around IDR 400,000++ for a 60-minute Balinese massage, with\\nmore  elaborate  packages  costing  upwards  of  IDR  1,000,000.  The  hotel  periodically  offers  spa\\npromotions (such as late-morning happy hour discounts or package deals). For instance, guests\\nmay inquire if any “buy one, get one” spa deals are available during their stay. Resort package\\ndeals (like honeymoon or wellness packages) sometimes include spa credits or specific treatments as\\nwell .\\nFitness & Wellness:Important:There is no gym/fitness center on-site at Puri Santrian . In\\nplace of a gym, the resort encourages wellness through daily yoga classes and outdoor activities (see\\nPools & Recreation below). Guests seeking gym facilities may be able to use the fitness center at the\\nsister property Griya Santrian (in central Sanur) by arrangement, or use the long beachfront path for\\njogging. A certified yoga instructor offers complimentary yoga sessions for in-house guests every\\nmorning by the beach (typically around 7:00 AM, weather permitting). These classes focus on\\ngentle stretches and breathing exercises, suitable for all levels. Mats are provided and no prior\\nsignup is required for yoga – just meet at the designated area by the beach. This is a great way to\\nstart the day and is very popular with guests.\\nPools, Beach, and Recreation\\nPuri Santrian is known for its beautiful swimming pools and beachfront leisure options:\\nSwimming Pools: There are two large outdoor pools plus a children’s pool on the property.\\nThe main pool is a free-form pool near the beach, surrounded by sun loungers and palm trees. A\\nsecond pool is located in the garden area and often remains quieter; one of these features an in-pool\\nbar for drinks and snacks. Additionally, guests who book Santrian Club rooms or Premier Deluxe\\nrooms enjoy exclusive access to a private Club pool and Jacuzzi set in a secluded wing with tropical\\ngreenery . This  adults-only infinity pool offers a tranquil setting away from the main areas\\n(children under 15 are not permitted in the Club wing). All pools are open daily, typically from\\n9:00 AM to 9:00 PM (posted pool hours) for swimming. Towels are provided poolside, and a pool\\nattendant is on duty. Please note: There are no lifeguards on duty, so children must be supervised.\\nFor safety, no diving is allowed and glassware is prohibited in the pool areas.\\nBeach Access: The resort fronts a calm section of Sanur Beach, with direct access to the sand just\\nsteps past the Beach Club Restaurant. A beachfront promenade runs the length of Sanur –\\nperfect for cycling or jogging. The hotel maintains a private area of beach with complimentary sun\\nloungers, umbrellas, and beach towels for guests. Beach service is available: staff can provide\\ndrink  service  to  your  lounger .  The  sea  here  is  relatively  gentle  (protected  by  an  offshore  reef),\\nsuitable for swimming and wading especially at high tide. During low tide the water is very shallow;\\nguests often explore the tide pools or walk to the reef. The  sunrise over the ocean is spectacular\\nfrom  the  beach.  In  the  evenings,  occasional  night  markets  or  beach  events might  be  within\\nwalking distance along the shore. Note: The beach is public (as per Indonesian law), so expect some\\nlocal vendors and the general public on the shoreline, but the hotel’s immediate area is usually quiet\\nand well-kept.\\nWater Sports: Guests have complimentary use of kayaks/canoes to paddle along the calm waters\\nof  Sanur  (subject  to  availability  –  inquire  at  the  beach  activity  desk).  Basic  stand-up\\npaddleboards are also available. Lifejackets are provided. The resort can arrange snorkeling trips to\\n• \\n56\\n57\\n• 58 59\\n60 61\\n• 62\\n63\\n64 65\\n66\\n• \\n67\\n• \\n68\\n4'),\n",
       " Document(metadata={'producer': 'WeasyPrint 65.1', 'creator': 'ChatGPT', 'creationdate': '', 'title': 'Puri Santrian Hotel – Overview & Contact Information', 'author': 'ChatGPT Deep Research', 'source': './assets/Puri Santrian Hotel – Overview & Contact Information.pdf', 'total_pages': 10, 'page': 4, 'page_label': '5'}, page_content='the nearby reef or other water activities (additional charges apply for guided activities or motorized\\nsports). Note that any water activities are at guests’ own risk, and it’s advised to avoid the reef\\narea during low tide or rough conditions.\\nSports & Fitness:Bicycles are available free of charge for guests to borrow, allowing you to explore\\nthe 7km Sanur beachfront bike path and local neighborhood. This is a popular activity in the\\nmornings and late afternoons. Bikes are loaned on a first-come, first-served basis (check them out\\nvia the concierge or front gate attendant). The resort also has an outdoor tennis court on-site\\n – equipment (rackets and balls) can be borrowed from the recreation desk. Tennis is best played\\nearly morning or evening due to the sun; the court is not floodlit at night, so generally available\\nduring daylight hours only. Guests can book a tennis court time slot at no charge. \\nClasses & Activities: Beyond yoga and cooking (see Spa and Experiences), the hotel sometimes\\noffers Balinese cultural activities such as fruit carving demonstrations or temple offering making,\\nespecially during festive periods. A library/lounge near the lobby provides books, magazines, and\\nboard games for a quiet indoor pastime. The concierge can assist in arranging local tours (e.g.\\nto Ubud, temples, or snorkeling day trips) as well.\\nNote on Gym: As mentioned, there is no fitness center/gym at the resort. Guests looking for a full\\ngym workout can inquire with reception for nearest fitness facilities. Many guests use the long\\nbeachfront path for exercise or join the free yoga as an alternative.\\nTransportation and Directions\\nAirport Transfers: Puri Santrian offers airport transfer service by private vehicle upon request. The\\nresort is about 15 km from Ngurah Rai International Airport (DPS) in Denpasar , roughly a 25–30\\nminute drive under normal traffic. Airport pick-up or drop-off can be arranged for IDR 400,000\\nnet per car (one way), for up to 3 passengers with luggage. Larger vehicles or group transfers\\ncan be arranged at adjusted rates. To book an airport transfer , it’s recommended to email your flight\\ndetails to the reservation team at least 48 hours before arrival. A driver will meet you at the\\nairport holding a sign. Note: Taxis and ride-hailing services are also readily available at the airport – if\\nyou choose to come on your own, the resort is well-known (you can mention “Puri Santrian in Sanur ,\\nJl. Cemara”). \\nShuttle and Local Transport: The resort does not operate a scheduled shuttle bus, but taxis or car\\nhires can be arranged.  On-site car rental or private driver service can be booked through the\\nconcierge if you wish to explore Bali. For shorter trips in Sanur , the front desk can call a local taxi or\\nyou can use apps like Grab/Gojek for rides. Bicycle rental is free for guests (as mentioned above),\\nwhich is a fun way to visit nearby shops and cafes in Sanur . The hotel’s location in South Sanur is a\\nbit quieter; it’s about a 10-minute drive (or 3-4 km) to central Sanur’s markets and restaurants. \\nParking: For guests with their own vehicles,  complimentary on-site parking is available . The\\nparking area is within the hotel grounds (outdoor parking lot).  Please note that space may be\\nlimited;  the  lot  can  accommodate  standard  cars  but  not  large  buses.  There  is  security  staff\\nmonitoring the parking area 24/7. (Despite some listings indicating no parking, the hotel  does\\nallow guest parking on property at no charge.) Valet service is not formal, but staff will assist if you\\nneed help parking. If the on-site lot is full, they will direct you to an overflow area nearby.\\n69\\n• \\n70\\n68\\n71\\n• \\n72\\n• 58\\n• \\n73\\n74\\n74\\n• \\n• 28\\n75\\n5'),\n",
       " Document(metadata={'producer': 'WeasyPrint 65.1', 'creator': 'ChatGPT', 'creationdate': '', 'title': 'Puri Santrian Hotel – Overview & Contact Information', 'author': 'ChatGPT Deep Research', 'source': './assets/Puri Santrian Hotel – Overview & Contact Information.pdf', 'total_pages': 10, 'page': 5, 'page_label': '6'}, page_content='Directions: Puri Santrian is located on Jalan Cemara in Sanur , which is to the southeast of Denpasar\\ncity. If coming from the airport, you will likely take the Ngurah Rai Bypass north-east toward Sanur ,\\nthen turn onto Jalan Danau Poso or Jalan Cemara. The hotel is oceanfront at the end of a small lane\\n(look for the “Santrian” sign). It is about a 15-minute drive from Denpasar downtown and a 30–40\\nminute drive from tourist areas like Kuta or Seminyak (depending on traffic). Ubud is about 1 hour’s\\ndrive away. The hotel can provide directions or coordinate with drivers if needed. \\nHotel Policies\\nSmoking Policy:All rooms at Puri Santrian are non-smoking, including on balconies and terraces\\n. Guests are not permitted to smoke indoors or in any enclosed areas. Designated outdoor\\nsmoking areas are available in the gardens and certain open-air sections of the property. A cleaning\\nfee may be charged for smoking in non-smoking areas. Tip: If you are a smoker , ask the staff to point\\nout the nearest smoking area (usually near the parking area or beach corner). Note: The hotel also\\nkindly asks guests not to hang clothing or towels on balconies/terraces or railings (both for\\nappearance and to prevent damage); a drying rack is provided in each room’s bathroom, and laundry\\nservice is available.\\nPet Policy:No pets are allowed on the premises. This includes dogs, cats, and other animals,\\nirrespective of size. The resort also does  not allow service animals, so guests who require guide\\ndogs or similar should contact the hotel in advance for assistance (they may help arrange a local\\nsolution, as Indonesian regulations differ from some countries regarding service animals). Guests\\nfound with pets may be asked to leave and cleaning fees could apply.\\nChild Policy: The resort welcomes families, but note that some areas and rooms are adults-only.\\nChildren of all ages are allowed in Superior, Deluxe, and Premier rooms, with existing bedding or\\nan extra bed. Children under 2 years stay free in a baby cot or sharing bed with parents (baby\\ncots are complimentary upon request). Children 2–11 years using an existing bed with parents\\nmay incur a breakfast charge or extra person fee (the hotel’s policy is IDR 150,000 net per night per\\nchild 3-11 if sharing existing bedding).  Extra beds (rollaway or sofa bed) can be provided in\\ncertain rooms for older children or adults at a rate of around IDR 500,000 net per night. There is\\na maximum of one extra bed per room. Santrian Club and Premier Deluxe rooms are adults-\\nonly, designed for  guests 15 years and older (no children under 15 are allowed in those\\ncategories, due to the exclusive pool and tranquil environment). The Bungalow and Santrian Club\\nrooms accommodate  2 persons maximum and cannot take extra beds or baby cots. Families\\nwith multiple children may opt for Superior/Deluxe rooms or request interconnecting rooms (subject\\nto availability). The hotel has a children’s pool and can provide high chairs in restaurants, but it does\\nnot have a kids’ club/daycare facility. Babysitting services can be arranged with advance notice (with\\nan external babysitter , for a fee).\\nExtra Bed & Baby Cot: As noted, baby cribs are free (suitable for infants up to ~2 years). Rollaway\\nbeds are limited and incur a fee (approx IDR 450k–500k per night). If you need an extra bed\\nor cot, it’s best to request it at booking time or well before arrival to ensure availability.\\nPayments: Major  credit  cards are  accepted  including  Visa,  MasterCard,  American  Express,  and\\nDiners  Club .  Credit  card  charges  will  be  made  in  Indonesian  Rupiah  (IDR)  as  per  local\\nregulations, using the hotel’s exchange rate of the day if your reservation was quoted in a different\\n• \\n• \\n76\\n77\\n• 78 79\\n• \\n80\\n81\\n80\\n82\\n83\\n84 65\\n85\\n• \\n86 82\\n• \\n87 88\\n6'),\n",
       " Document(metadata={'producer': 'WeasyPrint 65.1', 'creator': 'ChatGPT', 'creationdate': '', 'title': 'Puri Santrian Hotel – Overview & Contact Information', 'author': 'ChatGPT Deep Research', 'source': './assets/Puri Santrian Hotel – Overview & Contact Information.pdf', 'total_pages': 10, 'page': 6, 'page_label': '7'}, page_content='currency .  The  hotel  does  not  accept  personal  checks.  Cash  payments  are  accepted  in\\nIndonesian Rupiah; some foreign currencies may be accepted at the front desk for exchange, but it’s\\nrecommended to use the official money changers or ATMs in Sanur for better rates. At check-in, a\\ncredit card authorization or cash deposit is required for incidentals (see Check-In section). The same\\ncredit card used to book should be presented at check-in for verification – if that card’s holder\\nisn’t traveling, please contact the hotel in advance to arrange a payment authorization. \\nCancellation Policy: This can vary by booking. Generally, if you booked a refundable rate, you can\\ncancel without charge up to a certain period (often 3-7 days before arrival) – after that, a cancellation\\nfee may apply. Non-refundable rates will not be refunded for cancellations or no-shows. It’s\\nimportant to check the specific terms on your reservation confirmation. If you need to modify or\\ncancel, contact the hotel or your booking agent as early as possible. In case of a no-show without\\nprior notice, the hotel will charge a fee equal to at least one night’s stay. \\nHouse Rules: Outside visitors are not allowed in guest rooms for security and privacy reasons.\\nIf you have a friend visiting, you may meet them in the lobby, lounge, or restaurant areas, but not\\nbring non-registered guests to your room. Quiet hours are generally observed after 10:00 PM in the\\nrooms and corridors – guests are asked to be mindful of noise at night. The resort requests guests to\\ndress appropriately in public areas (cover-ups over swimwear in the lobby, restaurants, etc.).\\nAlso, as a courtesy to other guests, please refrain from reserving pool chairs for long periods or\\nplaying music aloud in public areas.\\nSpecial Events: If you plan to hold any event (birthday, party, etc.) on premises, please coordinate\\nwith the hotel. They have wedding and meeting facilities, and separate policies may apply for event\\nbookings. Standard guest stays are for leisure and relaxation; any disturbance to other guests could\\nresult in intervention by management.\\nEnvironmental Policies: Puri Santrian participates in eco-friendly practices. Linen and towels are\\nchanged every day only upon request or every two days as a default, to conserve water (you can\\nrequest daily changes if needed). The resort also avoids single-use plastics where possible; you may\\nnotice refillable bathroom amenities and glass water bottles in rooms.\\nSafety and Accessibility\\nSecurity: The resort has 24-hour security personnel and a guarded entrance. Security staff patrol\\nthe grounds, especially at night, to ensure guest safety. CCTV cameras monitor common areas. The\\nbeach area is also watched by security to deter non-guest intruders (though Sanur area is generally\\nvery safe). Guests are issued wristbands or asked for room details when using facilities to ensure\\nonly in-house guests use the pools, etc.\\nIn-Room  Safety: Each  room  is  equipped  with  an  electronic  safe for  your  valuables.  It’s\\nrecommended to store passports, electronics, and cash in the safe when not in use. The resort is not\\nliable for unattended items outside the safe. (There are also safety deposit boxes at the front desk if\\nyou prefer to use those.) For peace of mind, rooms also have smoke detectors, and the property\\nhas fire extinguishers and emergency plans in place. There are telephones in rooms to call\\nreception or emergency services quickly if needed.\\n87 87\\n19\\n• \\n89\\n90\\n• 91\\n39\\n• \\n• \\n• \\n92\\n• 32\\n93\\n7'),\n",
       " Document(metadata={'producer': 'WeasyPrint 65.1', 'creator': 'ChatGPT', 'creationdate': '', 'title': 'Puri Santrian Hotel – Overview & Contact Information', 'author': 'ChatGPT Deep Research', 'source': './assets/Puri Santrian Hotel – Overview & Contact Information.pdf', 'total_pages': 10, 'page': 7, 'page_label': '8'}, page_content='Medical Assistance: A doctor is on call 24/7 for the resort. If you feel unwell or need medical\\nhelp, contact the front desk and they can arrange a doctor visit to the hotel or assist in transporting\\nyou to an international clinic or hospital nearby. The staff is trained in basic first aid and the hotel\\nkeeps a  first aid kit on site  for minor injuries. The nearest clinic is only a few minutes away.\\nPharmacies are accessible in Sanur for over-the-counter needs, and some basic medicines (like fever\\nreducers, band-aids) are available via the hotel.\\nAccessibility: While the resort strives to accommodate all guests, note that there are no elevators\\n(lifts) on the property, since most structures are low-rise. Guests with mobility issues should\\nrequest a ground-floor room. Many facilities (restaurants, lobby, pools) are on ground level. There\\nare ramps available in certain areas: the lobby and restaurant entrances are wheelchair accessible\\n. Some rooms have walk-in showers which may be easier for those with limited mobility (request\\nupon  booking).  The  concierge  and  reception  desks  are  wheelchair-accessible  height.\\nHowever ,  wheelchair-accessible  rooms/bathrooms with  handrails  are  limited;  it’s  advisable  to\\ncommunicate any special needs in advance so the hotel can prepare. The paths around the resort\\nare mostly flat, though some have one or two steps – staff can assist with portable ramps if needed. \\nChild Safety: Families with young children should be aware that rooms have balconies or terraces\\nwhich require supervision. Always lock balcony doors if kids are in the room alone and do not\\nleave chairs near railings. The pools do not have lifeguards and have varying depths, so ensure\\nchildren wear floatation devices if they are not strong swimmers. The hotel can provide a baby cot\\nand may have a limited number of child safety plug covers or corner protectors if needed (inquire\\nprior to arrival).\\nNight Security: The resort grounds are illuminated at night along pathways. It is generally safe to\\nwalk around, but if you prefer , a security guard or staff member can escort you to your room after\\ndark. Always keep your room door locked, and use the peephole or call the front desk if someone\\nunexpected knocks. The hotel requires staff to carry identification or wear uniforms, so you can\\nrecognize them.\\nEmergency Info: In the event of a fire or emergency, there are alarm bells and announcements.\\nAssembly points are indicated on the back of your room door . The resort’s emergency plan will direct\\nguests to gather in open areas (like the parking lot or beach) if evacuation is necessary. The front\\ndesk can assist with any emergency situation. They also have contingency plans for natural events;\\nfor example, being a beachfront property, they have measures for tsunami warnings (though such\\nevents are extremely rare). \\nWeather  and  Nature: Bali  is  generally  a  safe  destination.  Occasionally,  seclusion  day  (Nyepi)\\noccurs (a Balinese holiday) where guests must remain on hotel grounds for 24 hours and the airport\\ncloses  – the hotel will inform guests if their stay falls on this day and provide activities and meals\\non-site, as leaving the resort is not allowed during Nyepi. In terms of wildlife, you might see geckos\\nor small monkeys (rarely) around – do not feed any animals. The hotel conducts regular pest control. \\nCOVID-19 / Hygiene: Puri Santrian adheres to enhanced cleanliness standards (they even have a\\n“Hygiene, Cleanliness & Safety” protocol). This includes sanitization of rooms, availability of hand\\nsanitizer  in  common  areas,  and  staff  health  checks.  Guests  are  encouraged  to  practice  social\\n• 94\\n93\\n• \\n95\\n96\\n96\\n• \\n97\\n• \\n• \\n• \\n98\\n• \\n99\\n8'),\n",
       " Document(metadata={'producer': 'WeasyPrint 65.1', 'creator': 'ChatGPT', 'creationdate': '', 'title': 'Puri Santrian Hotel – Overview & Contact Information', 'author': 'ChatGPT Deep Research', 'source': './assets/Puri Santrian Hotel – Overview & Contact Information.pdf', 'total_pages': 10, 'page': 8, 'page_label': '9'}, page_content='distancing  in  public  areas  as  appropriate.  Masks  may  be  required  indoors  if  local  regulations\\ndemand. \\nBy understanding the above information, guests at Puri Santrian Hotel can enjoy a safe, comfortable, and\\nmemorable stay, whether traveling as a family, couple, or solo. The resort’s blend of Balinese hospitality\\nand modern amenities makes it a top choice in Sanur for relaxation and cultural charm. For any further\\nquestions, the hotel’s concierge and e-concierge email service are happy to assist. Enjoy your stay at Puri\\nSantrian – where “the soul of Sanur” meets genuine island hospitality.\\nSources: Official Puri Santrian website and brochure, hotel’s published Terms & Conditions,\\nand verified hotel listings. \\nAbout Puri Santrian - Puri Santrian\\nhttps://santrian.com/puri-santrian/about-puri-santrian/\\nPuri\\nSantrian, Denpasar: Hotel Reviews, Rooms & Prices | Hotels.com\\nhttps://www.hotels.com/ho339417/puri-santrian-denpasar-indonesia/\\nGet in Touch With Us - Puri Santrian\\nhttps://santrian.com/puri-santrian/contact-us\\nTerms & Conditions - Puri Santrian\\nhttps://santrian.com/puri-santrian/terms-conditions-2/\\nBeach Club Restaurant - Puri Santrian\\nhttps://santrian.com/puri-santrian/dining/beach-club-restaurant.html\\nMezzanine Asian Kitchen & Bar - Puri Santrian\\nhttps://santrian.com/puri-santrian/dining/the-mezzanine.html\\nCooking Class - Puri Santrian\\nhttps://santrian.com/puri-santrian/experience/cooking-class.html\\nThe Spa - Puri Santrian\\nhttps://santrian.com/puri-santrian/spa\\nPuri Santrian Spa - Bali-Wellness-Guide\\nhttp://baliwellnessguide.com/listings/puri-santrian-spa/\\nThe Spa - Puri Santrian\\nhttps://santrian.com/puri-santrian/spa/the-spa.html\\nPuri Santrian Private Balconies: Pictures & Reviews - Tripadvisor\\nhttps://www.tripadvisor .com/Hotel_Feature-g297700-d307577-zft11284-Puri_Santrian.html\\nDo they have a gym or exercise facility on the... - Tripadvisor\\nhttps://www.tripadvisor .com/FAQ_Answers-g297700-d307577-t284180.html\\nPuri Santrian Beach Resort And Spa - Sanur - travelmyth.com\\nhttps://www.travelmyth.com/Sanur/Hotels/Puri-Santrian-Beach-Resort-And-Spa_tmid87863\\n5\\n100\\n1 12 101 46\\n62 15\\n1 3 5 63\\n2 4 13 15 16 17 21 29 30 31 32 47 50 57 62 67 70 71 73 75 79 86 88 89 93 95 96 97 98\\n6 7 8 9 10 11\\n12 14 18 19 20 22 23 24 25 26 27 28 36 39 46 48 49 51 69 74 76 77 78 80 81 82 83 85 87 90\\n91 92 94 99 101\\n33 34 35 37 38 44\\n40 41 42 43\\n45\\n52\\n53\\n54 55\\n56\\n58\\n59\\n9'),\n",
       " Document(metadata={'producer': 'WeasyPrint 65.1', 'creator': 'ChatGPT', 'creationdate': '', 'title': 'Puri Santrian Hotel – Overview & Contact Information', 'author': 'ChatGPT Deep Research', 'source': './assets/Puri Santrian Hotel – Overview & Contact Information.pdf', 'total_pages': 10, 'page': 9, 'page_label': '10'}, page_content='Puri Santrian | A Kuoni Hotel in Bali\\nhttps://www.kuoni.co.uk/destinations/south-east-asia/indonesia/bali/hotels/puri-santrian/\\nPuri Santrian\\nhttps://santrian.com/puri-santrian/\\nThe Best 4 Star Hotels in Sanur from $42 | Expedia\\nhttps://www.expedia.com/4Star-Sanur-Denpasar-Hotels.s40-n6049365-0.Travel-Guide-Filter-Hotels\\nBrilliant Balinese Cooking Class - Review of Puri Santrian, Sanur\\nhttps://www.tripadvisor .co.uk/ShowUserReviews-g297700-d307577-r972914402-Puri_Santrian-Sanur_Denpasar_Bali.html\\nPuri Santrian | Sanur | Bali | Indonesia\\nhttps://purisantrian.com-bali.com/\\n60\\n61 64 65 84 100\\n66\\n68\\n72\\n10')]"
      ]
     },
     "execution_count": 16,
     "metadata": {},
     "output_type": "execute_result"
    }
   ],
   "source": [
    "\n",
    "\n",
    "loader = PyPDFLoader(file_path)\n",
    "pages = []\n",
    "async for page in loader.alazy_load():\n",
    "    pages.append(page)\n",
    "\n",
    "\n",
    "\n",
    "pages"
   ]
  },
  {
   "cell_type": "code",
   "execution_count": null,
   "id": "76b19fd4",
   "metadata": {},
   "outputs": [
    {
     "name": "stdout",
     "output_type": "stream",
     "text": [
      "Question: do you guys offer free parking? and also what restaurant do you guys have?\n",
      "Answer: Yes, the resort offers complimentary on-site parking for guests. The parking area is within the hotel grounds, and there is security staff monitoring it 24/7. The parking lot can accommodate standard cars but not large buses. Valet service is not formal, but staff will assist if needed.\n",
      "\n",
      "Regarding restaurants, Puri Santrian has two main restaurants on-site:\n",
      "1. Beach Club Restaurant: This open-air beachfront restaurant serves international and Indonesian cuisine. It is open daily from 6:00 AM to midnight and offers a buffet breakfast, lunch, and dinner with themed dinner events some nights.\n",
      "2. Mezzanine Asian Kitchen & Bar: A specialty restaurant near the hotel entrance offering a refined dinner experience with a focus on Asian cuisines, especially Japanese and Chinese dishes. It is open in the evenings from 6:00 PM to 11:00 PM. Reservations are recommended for Mezzanine, especially in high season.\n",
      "\n",
      "Sources used:\n",
      "- Page 1: Cancellation/No-Show: Reservations must be guaranteed with a credit card. Cancellation terms\n",
      "depend on the rate or package booked (refer to your booking confirmation for details). In case of a\n",
      "no-show...\n",
      "- Page 4: the nearby reef or other water activities (additional charges apply for guided activities or motorized\n",
      "sports). Note that any water activities are at guests’ own risk, and it’s advised to avoid the re...\n",
      "- Page 7: Medical Assistance: A doctor is on call 24/7 for the resort. If you feel unwell or need medical\n",
      "help, contact the front desk and they can arrange a doctor visit to the hotel or assist in transporting\n",
      "...\n"
     ]
    }
   ],
   "source": [
    "# Create vector store from your documents\n",
    "vector_store = InMemoryVectorStore.from_documents(pages, OpenAIEmbeddings())\n",
    "\n",
    "# Create a retrieval chain\n",
    "qa_chain = RetrievalQA.from_chain_type(\n",
    "    llm=ChatOpenAI(temperature=0),  # Use OpenAI's chat model\n",
    "    chain_type=\"stuff\",  # Simple chain that stuffs all docs into prompt\n",
    "    retriever=vector_store.as_retriever(search_kwargs={\"k\": 3}),  # Get top 3 relevant docs\n",
    "    return_source_documents=True,  # Return the source docs used\n",
    ")\n",
    "\n",
    "# Ask a question\n",
    "question = \"do you guys offer free parking? and also what restaurant do you guys have?\"\n",
    "response = qa_chain.invoke({\"query\": question})\n",
    "\n",
    "print(f\"Question: {question}\")\n",
    "print(f\"Answer: {response['result']}\")\n",
    "print(\"\\nSources used:\")\n",
    "for doc in response['source_documents']:\n",
    "    print(f\"- Page {doc.metadata['page']}: {doc.page_content[:200]}...\")"
   ]
  },
  {
   "cell_type": "code",
   "execution_count": 39,
   "id": "8f63b360",
   "metadata": {},
   "outputs": [
    {
     "name": "stdout",
     "output_type": "stream",
     "text": [
      "Page 7: Medical Assistance: A doctor is on call 24/7 for the resort. If you feel unwell or need medical\n",
      "help, contact the front desk and they can arrange a doctor visit to the hotel or assist in transporting\n",
      "you to an international clinic or hospital nearby. The staff is trained in basic first aid and the h\n",
      "\n",
      "Page 0: Puri Santrian Hotel – Overview & Contact\n",
      "Information\n",
      "Puri Santrian is a 4-star Balinese beach resort located at the tranquil southern end of Sanur Beach in Bali,\n",
      "Indonesia . The resort is  family-owned and operated, designed like an extended Balinese royal\n",
      "compound with separate wings for different \n",
      "\n"
     ]
    }
   ],
   "source": [
    "docs = vector_store.similarity_search(\"what is the hotel name\", k=2)\n",
    "for doc in docs:\n",
    "    print(f\"Page {doc.metadata['page']}: {doc.page_content[:300]}\\n\")"
   ]
  },
  {
   "cell_type": "markdown",
   "id": "62999aca",
   "metadata": {},
   "source": [
    "# Lets solve the multi query issues first"
   ]
  },
  {
   "cell_type": "code",
   "execution_count": null,
   "id": "4eba89b6",
   "metadata": {},
   "outputs": [],
   "source": [
    " its already getting the right data answers most of the time but it needs to be more accurate maybe what we can do is add sql to it \n",
    "add an sql id to each one for further information in the metada"
   ]
  },
  {
   "cell_type": "markdown",
   "id": "4929bccf",
   "metadata": {},
   "source": [
    "# Tools creation "
   ]
  },
  {
   "cell_type": "markdown",
   "id": "9ad32a2a",
   "metadata": {},
   "source": [
    "## RAG for hotels and query decomposition"
   ]
  },
  {
   "cell_type": "code",
   "execution_count": null,
   "id": "eda32ea0",
   "metadata": {},
   "outputs": [],
   "source": [
    "# need to add decompositions to the retriever agent\n",
    "\n",
    "from langchain_core.vectorstores import InMemoryVectorStore\n",
    "from langchain_openai import OpenAIEmbeddings, ChatOpenAI\n",
    "from langchain.prompts import ChatPromptTemplate\n",
    "from langchain_core.output_parsers import StrOutputParser\n",
    "import numpy as np\n",
    "\n",
    "class VectorStoreRetriever:\n",
    "    def __init__(self, docs: list, oai_client):\n",
    "        self._docs = docs\n",
    "        self._client = oai_client\n",
    "        # Create vector store from documents\n",
    "        self._vector_store = InMemoryVectorStore.from_documents(\n",
    "            docs, \n",
    "            OpenAIEmbeddings()\n",
    "        )\n",
    "        \n",
    "        # Initialize decomposition components\n",
    "        self._llm = ChatOpenAI(temperature=0)\n",
    "        self._setup_decomposition()\n",
    "    \n",
    "    def _setup_decomposition(self):\n",
    "        \"\"\"Setup the decomposition chain using external prompt file\"\"\"\n",
    "        # Load prompt from external file\n",
    "        with open('assets/prompts/rag_decomposition.txt', 'r') as f:\n",
    "            template = f.read()\n",
    "        \n",
    "        # Create decomposition prompt template\n",
    "        prompt_decomposition = ChatPromptTemplate.from_template(template)\n",
    "        \n",
    "        # Create decomposition chain\n",
    "        self._decomposition_chain = (\n",
    "            prompt_decomposition | \n",
    "            self._llm | \n",
    "            StrOutputParser() | \n",
    "            (lambda x: [q.strip() for q in x.split(\"\\n\") if q.strip()])\n",
    "        )\n",
    "    \n",
    "    @classmethod\n",
    "    def from_documents(cls, docs: list, oai_client):\n",
    "        \"\"\"Alternative constructor to create instance from documents\"\"\"\n",
    "        return cls(docs, oai_client)\n",
    "    \n",
    "    def decompose_question(self, question: str):\n",
    "        \"\"\"Decompose a complex question into sub-questions\"\"\"\n",
    "        try:\n",
    "            sub_questions = self._decomposition_chain.invoke({\"question\": question})\n",
    "            return sub_questions\n",
    "        except Exception as e:\n",
    "            print(f\"Error in decomposition: {e}\")\n",
    "            return [question]  # Fallback to original question\n",
    "    \n",
    "    def retrieve_with_decomposition(self, question: str, k: int = 3):\n",
    "        \"\"\"Retrieve documents using question decomposition for better coverage\"\"\"\n",
    "        # Decompose the question\n",
    "        sub_questions = self.decompose_question(question)\n",
    "        print(f\"Original question: {question}\")\n",
    "        print(f\"Decomposed into {len(sub_questions)} sub-questions:\")\n",
    "        for i, sq in enumerate(sub_questions, 1):\n",
    "            print(f\"  {i}. {sq}\")\n",
    "        print()\n",
    "        \n",
    "        # Retrieve documents for each sub-question\n",
    "        all_docs = []\n",
    "        for sub_q in sub_questions:\n",
    "            docs = self.similarity_search(sub_q, k=k)\n",
    "            all_docs.extend(docs)\n",
    "        \n",
    "        # Remove duplicates based on page content\n",
    "        unique_docs = []\n",
    "        seen_content = set()\n",
    "        for doc in all_docs:\n",
    "            content_hash = hash(doc.page_content[:100])  # Hash first 100 chars\n",
    "            if content_hash not in seen_content:\n",
    "                seen_content.add(content_hash)\n",
    "                unique_docs.append(doc)\n",
    "        \n",
    "        return unique_docs\n",
    "    \n",
    "    def similarity_search(self, query: str, k: int = 3):\n",
    "        \"\"\"Direct access to vector store similarity search\"\"\"\n",
    "        return self._vector_store.similarity_search(query, k=k)\n"
   ]
  },
  {
   "cell_type": "code",
   "execution_count": 89,
   "id": "8d564c6f",
   "metadata": {},
   "outputs": [],
   "source": [
    "@tool\n",
    "def lookup_hotel_info(query: str) -> tuple[str, list[str]]:\n",
    "    \"\"\"Consult the hotel information to answer questions about amenities, services, policies, facilities, dining options, accommodations, and guest experiences.\n",
    "    Use this to provide accurate information about the hotel based on available documentation.\n",
    "    \n",
    "    Returns:\n",
    "        tuple: (formatted_response, list_of_document_strings)\n",
    "    \"\"\"\n",
    "    \n",
    "    retriever = VectorStoreRetriever.from_documents(pages, llm)\n",
    "    docs = retriever.retrieve_with_decomposition(query, k=3)\n",
    "    \n",
    "    if not docs:\n",
    "        return \"No relevant information found for your query.\", []\n",
    "    \n",
    "    # Create a list of document content strings\n",
    "    doc_strings = [doc.page_content for doc in docs]\n",
    "    \n",
    "    # Format response with clear sections\n",
    "    response = f\"Based on the hotel documentation, here's what I found for: '{query}'\\n\\n\"\n",
    "    \n",
    "    for i, doc in enumerate(docs, 1):\n",
    "        response += f\"Source {i} (Page {doc.metadata['page']}):\\n{doc.page_content}\\n\\n\"\n",
    "    \n",
    "    return response.strip(), doc_strings\n",
    "\n",
    "rag_hotel_info = lookup_hotel_info"
   ]
  },
  {
   "cell_type": "code",
   "execution_count": 71,
   "id": "6b1964fa",
   "metadata": {},
   "outputs": [
    {
     "data": {
      "text/plain": [
       "RunnableBinding(bound=ChatOpenAI(client=<openai.resources.chat.completions.completions.Completions object at 0x00000275E3D7BEC0>, async_client=<openai.resources.chat.completions.completions.AsyncCompletions object at 0x00000275E542CFB0>, root_client=<openai.OpenAI object at 0x00000275DF0E6E40>, root_async_client=<openai.AsyncOpenAI object at 0x00000275E541A330>, model_name='gpt-4.1', model_kwargs={}, openai_api_key=SecretStr('**********')), kwargs={'tools': [{'type': 'function', 'function': {'name': 'lookup_hotel_info', 'description': 'Consult the hotel information to answer questions about amenities, services, policies, facilities, dining options, accommodations, and guest experiences.\\n    Use this to provide accurate information about the hotel based on available documentation.', 'parameters': {'properties': {'query': {'type': 'string'}}, 'required': ['query'], 'type': 'object'}}}]}, config={}, config_factories=[])"
      ]
     },
     "execution_count": 71,
     "metadata": {},
     "output_type": "execute_result"
    }
   ],
   "source": [
    "tools = [rag_hotel_info]\n",
    "llm.bind_tools(tools)"
   ]
  },
  {
   "cell_type": "markdown",
   "id": "1ded6093",
   "metadata": {},
   "source": [
    "# Langgraph Agent"
   ]
  },
  {
   "cell_type": "code",
   "execution_count": 101,
   "id": "e9860a55",
   "metadata": {},
   "outputs": [],
   "source": [
    "from typing import TypedDict, List\n",
    "from langgraph.graph import StateGraph, END\n",
    "from langchain_core.prompts import PromptTemplate\n",
    "from langchain_core.output_parsers import StrOutputParser\n"
   ]
  },
  {
   "cell_type": "code",
   "execution_count": 106,
   "id": "75586b13",
   "metadata": {},
   "outputs": [],
   "source": [
    "# ----- graph state -----\n",
    "class GraphState(TypedDict):\n",
    "    question: str\n",
    "    docs: List[str]         # raw snippets from your tool\n",
    "    notes: str              # the formatted string your tool returns\n",
    "    answer: str             # final answer from llm (or fallback)\n",
    "\n",
    "# ----- nodes -----\n",
    "def retrieve_node(state: GraphState) -> GraphState:\n",
    "    q = state[\"question\"]\n",
    "    notes, docs = rag_hotel_info(q)  # your tool\n",
    "    return {\"question\": q, \"docs\": docs or [], \"notes\": notes, \"answer\": state.get(\"answer\",\"\")}\n",
    "\n",
    "# Load prompt from AI_concierge.txt\n",
    "def load_prompt_template(file_path: str) -> str:\n",
    "    with open(file_path, 'r') as f:\n",
    "        return f.read()\n",
    "\n",
    "# Load the hotel concierge prompt from file\n",
    "generate_prompt_template = load_prompt_template('assets/prompts/AI_concierge.txt')\n",
    "\n",
    "# Create the prompt template - make sure it uses {question} and {context} placeholders\n",
    "generate_prompt = PromptTemplate.from_template(generate_prompt_template)\n",
    "generate_chain = generate_prompt | llm | StrOutputParser()\n",
    "\n",
    "def generate_node(state: GraphState) -> GraphState:\n",
    "    q = state[\"question\"]\n",
    "    docs = state[\"docs\"]\n",
    "    if not docs:\n",
    "        return {**state, \"answer\": \"I don't have that in the hotel docs yet.\"}\n",
    "    \n",
    "    # Use all documents without capping\n",
    "    context = \"\\n---\\n\".join(docs)\n",
    "    \n",
    "    out = generate_chain.invoke({\"question\": q, \"context\": context})\n",
    "    return {**state, \"answer\": out}\n",
    "\n",
    "# ----- wire graph -----\n",
    "workflow = StateGraph(GraphState)\n",
    "workflow.add_node(\"retrieve\", retrieve_node)\n",
    "workflow.add_node(\"generate\", generate_node)\n",
    "workflow.set_entry_point(\"retrieve\")\n",
    "workflow.add_edge(\"retrieve\", \"generate\")\n",
    "app = workflow.compile()"
   ]
  },
  {
   "cell_type": "code",
   "execution_count": 116,
   "id": "f91b1c2f",
   "metadata": {},
   "outputs": [
    {
     "name": "stdout",
     "output_type": "stream",
     "text": [
      "Original question: do you have any recommendations for an asian restaurant in the area?\n",
      "Decomposed into 3 sub-questions:\n",
      "  1. 1. What are the top-rated Asian restaurants near the hotel?\n",
      "  2. 2. Are there any specific Asian cuisines that you prefer or are looking for in the area?\n",
      "  3. 3. Do you have any dietary restrictions or preferences that we should consider when recommending an Asian restaurant?\n",
      "\n",
      "finished: retrieve\n",
      "finished: generate\n",
      "\n",
      "ANSWER: Certainly! At Hotel Puri Santrian, we have the Mezzanine Asian Kitchen & Bar, which offers a refined dining experience with a focus on Asian cuisines, especially Japanese and Chinese dishes. The restaurant features a two-level semi-fine dining space and a menu that includes sushi, teppanyaki, Chinese delicacies, and other Pan-Asian creations prepared with market-fresh ingredients. Reservations are recommended, especially during high season. The restaurant also has an elegant bar serving Asian-inspired cocktails, sake, and a curated wine list to complement your meal. Enjoy a memorable Asian dining experience at Mezzanine during your stay with us! If you'd like to make a reservation, I'd be happy to connect you with our concierge team who can assist with that right away.\n"
     ]
    }
   ],
   "source": [
    "inputs = {\"question\": \"do you have any recommendations for an asian restaurant in the area?\"}\n",
    "for step in app.stream(inputs):\n",
    "    for k in step:\n",
    "        print(\"finished:\", k)\n",
    "    # final answer\n",
    "print(\"\\nANSWER:\", step[\"generate\"][\"answer\"])"
   ]
  },
  {
   "cell_type": "code",
   "execution_count": null,
   "id": "0ff419d4",
   "metadata": {},
   "outputs": [],
   "source": []
  },
  {
   "cell_type": "code",
   "execution_count": null,
   "id": "9f627d6b",
   "metadata": {},
   "outputs": [],
   "source": []
  },
  {
   "cell_type": "code",
   "execution_count": null,
   "id": "11661280",
   "metadata": {},
   "outputs": [],
   "source": []
  },
  {
   "cell_type": "code",
   "execution_count": null,
   "id": "f65839ac",
   "metadata": {},
   "outputs": [],
   "source": []
  },
  {
   "cell_type": "code",
   "execution_count": null,
   "id": "9d4869df",
   "metadata": {},
   "outputs": [],
   "source": []
  },
  {
   "cell_type": "code",
   "execution_count": null,
   "id": "00dc6fa2",
   "metadata": {},
   "outputs": [],
   "source": []
  },
  {
   "cell_type": "code",
   "execution_count": null,
   "id": "d5940e0c",
   "metadata": {},
   "outputs": [],
   "source": []
  },
  {
   "cell_type": "code",
   "execution_count": null,
   "id": "e8f2ff6a",
   "metadata": {},
   "outputs": [],
   "source": []
  }
 ],
 "metadata": {
  "kernelspec": {
   "display_name": ".venv",
   "language": "python",
   "name": "python3"
  },
  "language_info": {
   "codemirror_mode": {
    "name": "ipython",
    "version": 3
   },
   "file_extension": ".py",
   "mimetype": "text/x-python",
   "name": "python",
   "nbconvert_exporter": "python",
   "pygments_lexer": "ipython3",
   "version": "3.12.1"
  }
 },
 "nbformat": 4,
 "nbformat_minor": 5
}
